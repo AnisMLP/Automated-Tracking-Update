{
 "cells": [
  {
   "cell_type": "code",
   "execution_count": 1,
   "id": "973b9e41",
   "metadata": {},
   "outputs": [],
   "source": [
    "import os\n",
    "import json\n",
    "import requests\n",
    "import base64\n",
    "from datetime import date\n",
    "import re\n",
    "import time\n",
    "from pprint import pprint\n",
    "from openpyxl import load_workbook\n",
    "import xlsxwriter\n",
    "from selenium.webdriver.common.by import By\n",
    "from selenium.webdriver.common.keys import Keys\n",
    "from pyotp import TOTP\n",
    "from selenium.webdriver.support import expected_conditions as EC\n",
    "from selenium.webdriver.support.ui import WebDriverWait\n",
    "from seleniumbase import Driver"
   ]
  },
  {
   "cell_type": "code",
   "execution_count": 2,
   "id": "cb4016c2",
   "metadata": {},
   "outputs": [
    {
     "name": "stdout",
     "output_type": "stream",
     "text": [
      "Automated fulfillment started EBC\n"
     ]
    }
   ],
   "source": [
    "brand = \"EBC\"\n",
    "print(f\"Automated fulfillment started {brand}\")"
   ]
  },
  {
   "cell_type": "code",
   "execution_count": 3,
   "id": "77c03716",
   "metadata": {},
   "outputs": [],
   "source": [
    "#Login Details\n",
    "\n",
    "GORGIAS_URL = \"https://mlperformance-1.gorgias.com\"\n",
    "GORGIAS_OD_USERNAME = 'amanina@mlperformance.co.uk'\n",
    "GORGIAS_OD_API_KEY = 'a40765a261a5096b6c4f04d16b25bf655cb77edb6c397ee88b8267480caa54b8'\n",
    "\n",
    "AUTHORIZATION = base64.b64encode(\n",
    "    f\"{GORGIAS_OD_USERNAME}:{GORGIAS_OD_API_KEY}\".encode(\"utf-8\")\n",
    ").decode(\"utf-8\")\n",
    "\n",
    "HEADERS = {\n",
    "    \"accept\": \"application/json\",\n",
    "    \"content-type\": \"application/json\",\n",
    "    \"authorization\": f\"Basic {AUTHORIZATION}\",\n",
    "}\n",
    "\n",
    "# print(HEADERS)"
   ]
  },
  {
   "cell_type": "code",
   "execution_count": 4,
   "id": "81ca9f8f",
   "metadata": {},
   "outputs": [],
   "source": [
    "#Supplier details\n",
    "\n",
    "supplier_list = {\"EBC\": {\n",
    "        \"supplier_id\" : 153616543, # supplier id in po shopify\n",
    "        \"supplier_email\" : [\"pkginfo@ups.com\"],\n",
    "        \"customer_ids\":[175689442], # cutomer id in gorgias\n",
    "        \"subject_pattern\": \"UPS Shipping Notification\"\n",
    "    }\n",
    "}\n",
    "\n",
    "#, \\\\d+ dispatched"
   ]
  },
  {
   "cell_type": "code",
   "execution_count": 5,
   "id": "c63aa96e",
   "metadata": {},
   "outputs": [
    {
     "name": "stdout",
     "output_type": "stream",
     "text": [
      "https://mlperformance-1.gorgias.com/api/tickets?customer_id=175689442\n"
     ]
    },
    {
     "data": {
      "text/plain": [
       "[164787579, 164259905, 164259750, 163896555, 163884501, 163884496, 163760165]"
      ]
     },
     "execution_count": 5,
     "metadata": {},
     "output_type": "execute_result"
    }
   ],
   "source": [
    "def generate_ticket_list(tag_id):\n",
    "    subject_pattern = supplier_list[\"EBC\"][\"subject_pattern\"]\n",
    "    customer_ids = supplier_list[\"EBC\"][\"customer_ids\"]\n",
    "    ticket_id_list = []\n",
    "\n",
    "    for customer_id in customer_ids:\n",
    "        #supplier_url = f\"{GORGIAS_URL}/api/tickets?customer_id={customer_id}&order_by=created_datetime%3Adesc&page=1&per_page=100\"\n",
    "        supplier_url = f\"{GORGIAS_URL}/api/tickets?customer_id={customer_id}\"\n",
    "        print(supplier_url)\n",
    "        response = requests.get(supplier_url, headers=HEADERS).json()\n",
    "        # pprint(response)\n",
    "        # cursor = response[\"meta\"][\"next_cursor\"]\n",
    "\n",
    "        # supplier_url_next = f\"{supplier_url}&cursor={cursor}\"\n",
    "\n",
    "        # for data in response[\"data\"]:\n",
    "        #     print(data[\"id\"])\n",
    "        #     print(data[\"subject\"])\n",
    "\n",
    "        \n",
    "        #     # print(data[\"tags\"])\n",
    "\n",
    "        #     if subject_pattern in data[\"subject\"]:\n",
    "        #         print(\"yes\")\n",
    "\n",
    "\n",
    "        \n",
    "        ticket_id_list.extend(\n",
    "            [\n",
    "                data[\"id\"]\n",
    "                for data in response[\"data\"]\n",
    "                if (\n",
    "                    re.search(subject_pattern, data[\"subject\"])\n",
    "                    # and any(tag_id in all_tag.values() for all_tag in data[\"tags\"])\n",
    "                    # and data[\"status\"] == \"open\"\n",
    "                )\n",
    "            ]\n",
    "        )\n",
    "    return ticket_id_list\n",
    "\n",
    "ticket_id_list = generate_ticket_list('711016')\n",
    "ticket_id_list"
   ]
  }
 ],
 "metadata": {
  "kernelspec": {
   "display_name": "Python 3",
   "language": "python",
   "name": "python3"
  },
  "language_info": {
   "codemirror_mode": {
    "name": "ipython",
    "version": 3
   },
   "file_extension": ".py",
   "mimetype": "text/x-python",
   "name": "python",
   "nbconvert_exporter": "python",
   "pygments_lexer": "ipython3",
   "version": "3.12.4"
  }
 },
 "nbformat": 4,
 "nbformat_minor": 5
}
