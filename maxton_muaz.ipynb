{
 "cells": [
  {
   "cell_type": "code",
   "execution_count": 1,
   "id": "f0b5a5ed",
   "metadata": {},
   "outputs": [],
   "source": [
    "import os\n",
    "import json\n",
    "import requests\n",
    "import base64\n",
    "from datetime import date\n",
    "import re\n",
    "import time\n",
    "from pprint import pprint\n",
    "from openpyxl import load_workbook\n",
    "import xlsxwriter\n",
    "from selenium.webdriver.common.by import By\n",
    "from selenium.webdriver.common.keys import Keys\n",
    "from pyotp import TOTP\n",
    "from selenium.webdriver.support import expected_conditions as EC\n",
    "from selenium.webdriver.support.ui import WebDriverWait\n",
    "from seleniumbase import Driver"
   ]
  },
  {
   "cell_type": "code",
   "execution_count": 2,
   "id": "bd9b9285",
   "metadata": {},
   "outputs": [
    {
     "name": "stdout",
     "output_type": "stream",
     "text": [
      "Automated fulfillment started Maxton Design\n"
     ]
    }
   ],
   "source": [
    "brand = \"Maxton Design\"\n",
    "print(f\"Automated fulfillment started {brand}\")"
   ]
  },
  {
   "cell_type": "code",
   "execution_count": 24,
   "id": "b44f4be9",
   "metadata": {},
   "outputs": [],
   "source": [
    "#Login Details\n",
    "\n",
    "GORGIAS_URL = \"https://mlperformance-1.gorgias.com\"\n",
    "GORGIAS_OD_USERNAME = 'amanina@mlperformance.co.uk'\n",
    "GORGIAS_OD_API_KEY = 'a40765a261a5096b6c4f04d16b25bf655cb77edb6c397ee88b8267480caa54b8'\n",
    "\n",
    "AUTHORIZATION = base64.b64encode(\n",
    "    f\"{GORGIAS_OD_USERNAME}:{GORGIAS_OD_API_KEY}\".encode(\"utf-8\")\n",
    ").decode(\"utf-8\")\n",
    "\n",
    "HEADERS = {\n",
    "    \"accept\": \"application/json\",\n",
    "    \"content-type\": \"application/json\",\n",
    "    \"authorization\": f\"Basic {AUTHORIZATION}\",\n",
    "}\n",
    "# print(HEADERS)\n",
    "\n",
    "#shopify\n",
    "SHOPIFY_ADMIN_URL = \"https://admin.shopify.com/store/mlperformance/purchase_orders\"\n",
    "SHOPIFY_EMAIL = \"jarvis@mlperformance.co.uk\"\n",
    "SHOPIFY_PASSWORD = \"Te@mMLP2024!\"\n",
    "SHOPIFY_SECRET_KEY = \"Y55XYVN4MULN372ISPYVK4B7WRG22R6N\""
   ]
  },
  {
   "cell_type": "code",
   "execution_count": 17,
   "id": "7d54b55a",
   "metadata": {},
   "outputs": [
    {
     "name": "stdout",
     "output_type": "stream",
     "text": [
      "Browser initialization function defined.\n"
     ]
    }
   ],
   "source": [
    "# Function to initialize Selenium browser for Shopify login\n",
    "def initiate_browser(email, password, secret_key=None):\n",
    "    browser = Driver(incognito=True)\n",
    "    browser.get(\"https://admin.shopify.com/store/mlperformance/orders?inContextTimeframe=none\")\n",
    "    wait = WebDriverWait(browser, 30)\n",
    "    \n",
    "    # Enter email\n",
    "    wait.until(EC.element_to_be_clickable((By.XPATH, '//*[@id=\"account_email\"]'))).send_keys(email)\n",
    "    time.sleep(2)\n",
    "    wait.until(EC.element_to_be_clickable((By.CSS_SELECTOR, \".captcha__submit\"))).click()\n",
    "    \n",
    "    # Enter password\n",
    "    time.sleep(2)\n",
    "    wait.until(EC.element_to_be_clickable((By.CSS_SELECTOR, \".ui-password__input\"))).send_keys(password)\n",
    "    wait.until(EC.element_to_be_clickable((By.CSS_SELECTOR, \".captcha__submit\"))).click()\n",
    "    \n",
    "    # Handle 2FA if secret_key is provided\n",
    "    if secret_key:\n",
    "        from pyotp import TOTP\n",
    "        auth_field = wait.until(EC.presence_of_element_located((By.CSS_SELECTOR, \"input#account_tfa_code\")))\n",
    "        totp = TOTP(secret_key)\n",
    "        token = totp.now()\n",
    "        auth_field.send_keys(token)\n",
    "        time.sleep(3)\n",
    "        wait.until(EC.element_to_be_clickable((By.CSS_SELECTOR, \".ui-button--full-width\"))).click()\n",
    "    \n",
    "    return browser\n",
    "\n",
    "print(\"Browser initialization function defined.\")"
   ]
  },
  {
   "cell_type": "code",
   "execution_count": 4,
   "id": "f4b0018f",
   "metadata": {},
   "outputs": [],
   "source": [
    "#Supplier details\n",
    "\n",
    "supplier_list = {\"Maxton Design\": {\n",
    "        \"supplier_id\" : 143818911, # supplier id in po shopify\n",
    "        \"supplier_email\" : [\"sales@maxtondesign.co.uk\"],\n",
    "        \"customer_ids\":[175694695], # cutomer id in gorgias\n",
    "        \"subject_pattern\": \"MAXTON DESIGN UK - Order \\\\d+ dispatched\"\n",
    "    }\n",
    "}"
   ]
  },
  {
   "cell_type": "code",
   "execution_count": null,
   "id": "3531157e",
   "metadata": {},
   "outputs": [
    {
     "name": "stdout",
     "output_type": "stream",
     "text": [
      "{'error': {'data': {'page': ['Unknown field.'], 'per_page': ['Unknown field.']},\n",
      "           'msg': 'Failed to retrieve tickets.'}}\n"
     ]
    },
    {
     "ename": "KeyError",
     "evalue": "'data'",
     "output_type": "error",
     "traceback": [
      "\u001b[1;31m---------------------------------------------------------------------------\u001b[0m",
      "\u001b[1;31mKeyError\u001b[0m                                  Traceback (most recent call last)",
      "Cell \u001b[1;32mIn[46], line 24\u001b[0m\n\u001b[0;32m     11\u001b[0m         ticket_id_list\u001b[38;5;241m.\u001b[39mextend(\n\u001b[0;32m     12\u001b[0m             [\n\u001b[0;32m     13\u001b[0m                 data[\u001b[38;5;124m\"\u001b[39m\u001b[38;5;124mid\u001b[39m\u001b[38;5;124m\"\u001b[39m]\n\u001b[1;32m   (...)\u001b[0m\n\u001b[0;32m     20\u001b[0m             ]\n\u001b[0;32m     21\u001b[0m         )\n\u001b[0;32m     22\u001b[0m     \u001b[38;5;28;01mreturn\u001b[39;00m ticket_id_list\n\u001b[1;32m---> 24\u001b[0m ticket_id_list \u001b[38;5;241m=\u001b[39m \u001b[43mgenerate_ticket_list\u001b[49m\u001b[43m(\u001b[49m\u001b[38;5;124;43m'\u001b[39;49m\u001b[38;5;124;43m711016\u001b[39;49m\u001b[38;5;124;43m'\u001b[39;49m\u001b[43m)\u001b[49m\n\u001b[0;32m     25\u001b[0m ticket_id_list\n",
      "Cell \u001b[1;32mIn[46], line 14\u001b[0m, in \u001b[0;36mgenerate_ticket_list\u001b[1;34m(tag_id)\u001b[0m\n\u001b[0;32m      8\u001b[0m     response \u001b[38;5;241m=\u001b[39m requests\u001b[38;5;241m.\u001b[39mget(supplier_url, headers\u001b[38;5;241m=\u001b[39mHEADERS)\u001b[38;5;241m.\u001b[39mjson()\n\u001b[0;32m      9\u001b[0m     pprint(response)\n\u001b[0;32m     11\u001b[0m     ticket_id_list\u001b[38;5;241m.\u001b[39mextend(\n\u001b[0;32m     12\u001b[0m         [\n\u001b[0;32m     13\u001b[0m             data[\u001b[38;5;124m\"\u001b[39m\u001b[38;5;124mid\u001b[39m\u001b[38;5;124m\"\u001b[39m]\n\u001b[1;32m---> 14\u001b[0m             \u001b[38;5;28;01mfor\u001b[39;00m data \u001b[38;5;129;01min\u001b[39;00m \u001b[43mresponse\u001b[49m\u001b[43m[\u001b[49m\u001b[38;5;124;43m\"\u001b[39;49m\u001b[38;5;124;43mdata\u001b[39;49m\u001b[38;5;124;43m\"\u001b[39;49m\u001b[43m]\u001b[49m\n\u001b[0;32m     15\u001b[0m             \u001b[38;5;28;01mif\u001b[39;00m (\n\u001b[0;32m     16\u001b[0m                 re\u001b[38;5;241m.\u001b[39msearch(subject_pattern, data[\u001b[38;5;124m\"\u001b[39m\u001b[38;5;124msubject\u001b[39m\u001b[38;5;124m\"\u001b[39m])\n\u001b[0;32m     17\u001b[0m                 \u001b[38;5;66;03m# and any(tag_id in all_tag.values() for all_tag in data[\"tags\"])\u001b[39;00m\n\u001b[0;32m     18\u001b[0m                 \u001b[38;5;66;03m# and data[\"status\"] == \"open\"\u001b[39;00m\n\u001b[0;32m     19\u001b[0m             )\n\u001b[0;32m     20\u001b[0m         ]\n\u001b[0;32m     21\u001b[0m     )\n\u001b[0;32m     22\u001b[0m \u001b[38;5;28;01mreturn\u001b[39;00m ticket_id_list\n",
      "\u001b[1;31mKeyError\u001b[0m: 'data'"
     ]
    }
   ],
   "source": [
    "def generate_ticket_list(tag_id):\n",
    "    subject_pattern = supplier_list[\"Maxton Design\"][\"subject_pattern\"]\n",
    "    customer_ids = supplier_list[\"Maxton Design\"][\"customer_ids\"]\n",
    "    ticket_id_list = []\n",
    "    for customer_id in customer_ids:\n",
    "        # supplier_url = f\"{GORGIAS_URL}/api/tickets?customer_id={customer_id}&order_by=created_datetime%3Adesc&page=1&per_page=30\"\n",
    "        supplier_url = f\"{GORGIAS_URL}/api/tickets?customer_id={customer_id}\"\n",
    "        response = requests.get(supplier_url, headers=HEADERS).json()\n",
    "        pprint(response)\n",
    "        \n",
    "        ticket_id_list.extend(\n",
    "            [\n",
    "                data[\"id\"]\n",
    "                for data in response[\"data\"]\n",
    "                if (\n",
    "                    re.search(subject_pattern, data[\"subject\"])\n",
    "                    # and any(tag_id in all_tag.values() for all_tag in data[\"tags\"])\n",
    "                    # and data[\"status\"] == \"open\"\n",
    "                )\n",
    "            ]\n",
    "        )\n",
    "    return ticket_id_list\n",
    "\n",
    "ticket_id_list = generate_ticket_list('711016')\n",
    "ticket_id_list"
   ]
  },
  {
   "cell_type": "code",
   "execution_count": 11,
   "id": "1af58677",
   "metadata": {},
   "outputs": [],
   "source": [
    "ticket_id_list = [161958675, 161958672]"
   ]
  },
  {
   "cell_type": "code",
   "execution_count": 12,
   "id": "f3e3f70a",
   "metadata": {},
   "outputs": [
    {
     "name": "stdout",
     "output_type": "stream",
     "text": [
      "Raw API response for ticket 161958675:\n",
      "Successfully fetched ticket 161958675.\n",
      "Processed ticket data for 161958675:\n",
      "Raw API response for ticket 161958672:\n",
      "Successfully fetched ticket 161958672.\n",
      "Processed ticket data for 161958672:\n"
     ]
    }
   ],
   "source": [
    "# Fetch a single ticket from Gorgias\n",
    "def get_single_ticket(ticket_id):\n",
    "    url = f\"{GORGIAS_URL}/api/tickets/{ticket_id}\"\n",
    "    response = requests.get(url, headers=HEADERS)\n",
    "    \n",
    "    if response.status_code != 200:\n",
    "        print(f\"Failed to fetch ticket {ticket_id}: {response.status_code}\")\n",
    "        print(f\"Error message: {response.text}\")\n",
    "        return None\n",
    "    \n",
    "    try:\n",
    "        response_json = response.json()\n",
    "        print(f\"Raw API response for ticket {ticket_id}:\")\n",
    "        #pprint(response_json)  # Print\n",
    "        \n",
    "        # Try different response structures\n",
    "        ticket = response_json.get(\"data\") or response_json\n",
    "        if not ticket:\n",
    "            print(f\"Ticket {ticket_id}: No ticket data found in response.\")\n",
    "            return None\n",
    "        \n",
    "        print(f\"Successfully fetched ticket {ticket_id}.\")\n",
    "        return ticket\n",
    "    except ValueError as e:\n",
    "        print(f\"Ticket {ticket_id}: Failed to parse JSON response: {str(e)}\")\n",
    "        print(f\"Raw response: {response.text}\")\n",
    "        return None\n",
    "\n",
    "ticket_data = {}\n",
    "\n",
    "for single_ticket_id in ticket_id_list:\n",
    "    # Fetch the ticket\n",
    "    ticket = get_single_ticket(single_ticket_id)\n",
    "    ticket_data[single_ticket_id] = ticket\n",
    "    if ticket:\n",
    "        print(f\"Processed ticket data for {single_ticket_id}:\")\n",
    "        # pprint(ticket)  # Print processed ticket data\n",
    "    else:\n",
    "        print(\"No ticket data to process.\")"
   ]
  },
  {
   "cell_type": "code",
   "execution_count": 33,
   "id": "5d9b3a66",
   "metadata": {},
   "outputs": [
    {
     "name": "stdout",
     "output_type": "stream",
     "text": [
      "Stored: Ticket ID: 161958675, Reference Number: 251323, Tracking Number: 7049511519, Link: https://mlperformance-1.gorgias.com/app/ticket/161958675\n",
      "Stored: Ticket ID: 161958672, Reference Number: 251322, Tracking Number: 7049511516, Link: https://mlperformance-1.gorgias.com/app/ticket/161958672\n"
     ]
    }
   ],
   "source": [
    "# Function to extract Reference Number 1 from ticket\n",
    "def extract_reference_number(ticket, ticket_id):\n",
    "    if not ticket:\n",
    "        print(f\"Ticket {ticket_id}: No data to process.\")\n",
    "        return None, ticket_id\n",
    "    \n",
    "    messages = ticket.get(\"messages\", [])\n",
    "    if not messages:\n",
    "        print(f\"Ticket {ticket_id}: No messages found.\")\n",
    "        return None, ticket_id\n",
    "    \n",
    "    body_text = messages[0].get(\"body_text\", \"\")\n",
    "    # Debug: Print body text excerpt\n",
    "    body_excerpt = body_text[:200] + \"...\" if len(body_text) > 200 else body_text\n",
    "    # print(f\"Ticket {ticket_id} body excerpt:\\n{body_excerpt}\")\n",
    "    \n",
    "    match = re.search(r\"Order ID:\\s*(\\d+)\", body_text)\n",
    "    match2 = re.search(r\"Tracking number:\\s*(\\d+)\", body_text)\n",
    "    if match:\n",
    "        reference_num = match.group(1)\n",
    "        tracking_num = match2.group(1)\n",
    "        # print(f\"Ticket :{ticket_id}, Reference Number 1: {reference_num}, Tracking Number: {tracking_num}\")\n",
    "        # print(f\"Full body text:\\n{body_text}\")\n",
    "        return reference_num, ticket_id, tracking_num\n",
    "    else:\n",
    "        print(f\"Ticket {ticket_id}: Reference Number 1 not found.\")\n",
    "        # print(f\"Full body text:\\n{body_text}\")\n",
    "        return None, ticket_id\n",
    "\n",
    "# Extract reference number\n",
    "ticket_info = []\n",
    "\n",
    "for single_ticket_id, ticket in ticket_data.items():\n",
    "    if ticket:\n",
    "        ref_num, ticket_id, trac_num = extract_reference_number(ticket, single_ticket_id)\n",
    "        ticket_link = f\"{GORGIAS_URL}/app/ticket/{ticket_id}\"\n",
    "        if ref_num:\n",
    "            ticket_info.append({\"ticket_id\": ticket_id, \"reference_num\": ref_num, \"tracking_number\": {trac_num}, \"ticket_link\": ticket_link})\n",
    "            print(f\"Stored: Ticket ID: {ticket_id}, Reference Number: {ref_num}, Tracking Number: {trac_num}, Link: {ticket_link}\")\n",
    "        else:\n",
    "            print(f\"Ticket ID: {ticket_id}, No reference number extracted, Link: {ticket_link}\")\n",
    "    else:\n",
    "        print(\"Skipping extraction due to missing ticket data.\")"
   ]
  },
  {
   "cell_type": "code",
   "execution_count": 39,
   "id": "d1f5d9ac",
   "metadata": {},
   "outputs": [
    {
     "name": "stdout",
     "output_type": "stream",
     "text": [
      "Browser initialized and logged into Shopify.\n"
     ]
    }
   ],
   "source": [
    "# Initialize browser for Shopify\n",
    "browser = initiate_browser(SHOPIFY_EMAIL, SHOPIFY_PASSWORD, SHOPIFY_SECRET_KEY)\n",
    "if browser:\n",
    "    print(\"Browser initialized and logged into Shopify.\")\n",
    "else:\n",
    "    print(\"Browser initialization failed. Cannot proceed with PO search.\")"
   ]
  },
  {
   "cell_type": "code",
   "execution_count": 34,
   "id": "e5032e43",
   "metadata": {},
   "outputs": [
    {
     "name": "stdout",
     "output_type": "stream",
     "text": [
      "[{'ticket_id': 161958675, 'reference_num': '251323', 'tracking_number': {'7049511519'}, 'ticket_link': 'https://mlperformance-1.gorgias.com/app/ticket/161958675'}, {'ticket_id': 161958672, 'reference_num': '251322', 'tracking_number': {'7049511516'}, 'ticket_link': 'https://mlperformance-1.gorgias.com/app/ticket/161958672'}]\n"
     ]
    }
   ],
   "source": [
    "print(ticket_info)"
   ]
  },
  {
   "cell_type": "code",
   "execution_count": 50,
   "id": "f11a64f6",
   "metadata": {},
   "outputs": [
    {
     "name": "stdout",
     "output_type": "stream",
     "text": [
      "Found PO for reference 251323: https://admin.shopify.com/store/mlperformance/purchase_orders/10149003647\n",
      "Found tag: Dropship\n",
      "Found tag: Dropship\n",
      "Ticket ID: 161958675, Reference Number: 251323, Ticket Link: https://mlperformance-1.gorgias.com/app/ticket/161958675, Tracking Number: 7049511516, PO Link: https://admin.shopify.com/store/mlperformance/purchase_orders/10149003647, Tag: Dropship, Order ID: <h1>MLP143186</h1>\n",
      "Found PO for reference 251322: https://admin.shopify.com/store/mlperformance/purchase_orders/10143039871\n",
      "Found tag: Dropship\n",
      "Found tag: Dropship\n",
      "Ticket ID: 161958672, Reference Number: 251322, Ticket Link: https://mlperformance-1.gorgias.com/app/ticket/161958672, Tracking Number: 7049511516, PO Link: https://admin.shopify.com/store/mlperformance/purchase_orders/10143039871, Tag: Dropship, Order ID: MLP143654\n"
     ]
    }
   ],
   "source": [
    "# Function to search for PO in Shopify by reference number\n",
    "def get_po_link(reference_num, browser):\n",
    "    if not browser:\n",
    "        print(f\"Cannot search for PO with reference {reference_num}: Browser not initialized.\")\n",
    "        return \"Browser not initialized\"\n",
    "    \n",
    "    query_ref = f\"{reference_num}\"  \n",
    "    search_url = f\"{SHOPIFY_ADMIN_URL}?selectedView=all&query={query_ref}\"\n",
    "    \n",
    "    browser.get(search_url)\n",
    "    wait = WebDriverWait(browser, 10)\n",
    "    \n",
    "    try:\n",
    "        po_link = wait.until(\n",
    "            EC.presence_of_element_located((By.CSS_SELECTOR, '[data-primary-link=\"true\"]'))\n",
    "        ).get_attribute(\"href\")\n",
    "        print(f\"Found PO for reference {query_ref}: {po_link}\")\n",
    "        return po_link\n",
    "    except Exception as e:\n",
    "        print(f\"Error finding PO for reference {query_ref}: {str(e)}\")\n",
    "        return \"PO not found\"\n",
    "    \n",
    "def get_po_tags(po_url, browser):\n",
    "    browser.get(po_url)\n",
    "    wait = WebDriverWait(browser, 15)\n",
    "    try:\n",
    "        tag_list = []\n",
    "        tags = wait.until(\n",
    "            EC.presence_of_all_elements_located((By.CSS_SELECTOR, '.Polaris-Tag__Text'))\n",
    "        )\n",
    "        for itag in tags:\n",
    "            shop_tag = itag.get_attribute('innerText')\n",
    "            tag_list.append(shop_tag)\n",
    "        \n",
    "        if 'Dropship' in tag_list:\n",
    "            tag0 = 'Dropship'\n",
    "        else:\n",
    "            tag0 = 'Warehouse'\n",
    "        print(f\"Found tag: {tag0}\")\n",
    "        \n",
    "        comment_list = []\n",
    "        comments = wait.until(\n",
    "            EC.presence_of_all_elements_located((By.CSS_SELECTOR, '._CommentText_1x55c_28'))\n",
    "        )\n",
    "        for icomment in comments:\n",
    "            comment = icomment.get_attribute('innerText')\n",
    "            if 'MLP' in comment or 'SCP' in comment:\n",
    "                comment_list.append(comment)\n",
    "        \n",
    "        target_comment = ''.join(comment_list[-1])\n",
    "        order_id = ' '.join(word for word in target_comment.split() if 'MLP' in word or 'SCP' in word)\n",
    "\n",
    "        return tag0, order_id\n",
    "    \n",
    "    except Exception as e:\n",
    "        print(f\"Error finding tag for reference {po_url}: {str(e)}\")\n",
    "        return \"tag not found\"\n",
    "\n",
    "\n",
    "ticket_info_v2 = []\n",
    "\n",
    "# Search for POs\n",
    "if ticket_info and browser:\n",
    "    for info in ticket_info:\n",
    "        reference_num = info[\"reference_num\"]\n",
    "        ticket_id = info[\"ticket_id\"]\n",
    "        ticket_link = info[\"ticket_link\"]\n",
    "        tracking_num = info[\"tracking_number\"]\n",
    "        po_link = get_po_link(reference_num, browser)\n",
    "        tag = get_po_tags(po_link, browser)[0]\n",
    "        order_id = get_po_tags(po_link, browser)[1]\n",
    "\n",
    "        print(f\"Ticket ID: {ticket_id}, Reference Number: {reference_num}, Ticket Link: {ticket_link}, Tracking Number: {trac_num}, PO Link: {po_link}, Tag: {tag}, Order ID: {order_id}\")\n",
    "else:\n",
    "    if not ticket_info:\n",
    "        print(\"No ticket info to process for PO search.\")\n",
    "    if not browser:\n",
    "        print(\"No browser initialized for PO search.\")"
   ]
  },
  {
   "cell_type": "code",
   "execution_count": null,
   "id": "aa8c3940",
   "metadata": {},
   "outputs": [
    {
     "ename": "IndexError",
     "evalue": "list index out of range",
     "output_type": "error",
     "traceback": [
      "\u001b[1;31m---------------------------------------------------------------------------\u001b[0m",
      "\u001b[1;31mIndexError\u001b[0m                                Traceback (most recent call last)",
      "Cell \u001b[1;32mIn[49], line 2\u001b[0m\n\u001b[0;32m      1\u001b[0m blud \u001b[38;5;241m=\u001b[39m [\u001b[38;5;241m20\u001b[39m]\n\u001b[1;32m----> 2\u001b[0m \u001b[43mblud\u001b[49m\u001b[43m[\u001b[49m\u001b[38;5;241;43m2\u001b[39;49m\u001b[43m]\u001b[49m\n",
      "\u001b[1;31mIndexError\u001b[0m: list index out of range"
     ]
    }
   ],
   "source": []
  }
 ],
 "metadata": {
  "kernelspec": {
   "display_name": "Python 3",
   "language": "python",
   "name": "python3"
  },
  "language_info": {
   "codemirror_mode": {
    "name": "ipython",
    "version": 3
   },
   "file_extension": ".py",
   "mimetype": "text/x-python",
   "name": "python",
   "nbconvert_exporter": "python",
   "pygments_lexer": "ipython3",
   "version": "3.11.9"
  }
 },
 "nbformat": 4,
 "nbformat_minor": 5
}
